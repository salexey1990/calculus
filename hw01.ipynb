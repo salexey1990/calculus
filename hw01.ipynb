{
 "cells": [
  {
   "cell_type": "code",
   "execution_count": 27,
   "metadata": {},
   "outputs": [],
   "source": [
    "import numpy as np\n",
    "from matplotlib import pyplot as plt"
   ]
  },
  {
   "cell_type": "markdown",
   "metadata": {},
   "source": [
    "# 2.2"
   ]
  },
  {
   "cell_type": "code",
   "execution_count": 1,
   "metadata": {},
   "outputs": [
    {
     "data": {
      "text/plain": [
       "{3}"
      ]
     },
     "execution_count": 1,
     "metadata": {},
     "output_type": "execute_result"
    }
   ],
   "source": [
    "a = {1,2,3}\n",
    "b = {3,4,5}\n",
    "c = {5,6,7}"
   ]
  },
  {
   "cell_type": "code",
   "execution_count": 2,
   "metadata": {},
   "outputs": [
    {
     "data": {
      "text/plain": [
       "({3}, set(), {5})"
      ]
     },
     "execution_count": 2,
     "metadata": {},
     "output_type": "execute_result"
    }
   ],
   "source": [
    "a.intersection(b), a.intersection(c), b.intersection(c)"
   ]
  },
  {
   "cell_type": "code",
   "execution_count": 3,
   "metadata": {},
   "outputs": [
    {
     "data": {
      "text/plain": [
       "({1, 2, 3, 4, 5}, {1, 2, 3, 5, 6, 7}, {3, 4, 5, 6, 7})"
      ]
     },
     "execution_count": 3,
     "metadata": {},
     "output_type": "execute_result"
    }
   ],
   "source": [
    "a.union(b), a.union(c), b.union(c)"
   ]
  },
  {
   "cell_type": "code",
   "execution_count": 5,
   "metadata": {},
   "outputs": [
    {
     "data": {
      "text/plain": [
       "({1, 2}, {1, 2, 3}, {3, 4})"
      ]
     },
     "execution_count": 5,
     "metadata": {},
     "output_type": "execute_result"
    }
   ],
   "source": [
    "a.difference(b), a.difference(c), b.difference(c)"
   ]
  },
  {
   "cell_type": "code",
   "execution_count": 9,
   "metadata": {},
   "outputs": [
    {
     "data": {
      "text/plain": [
       "{(1, 3), (1, 4), (1, 5), (2, 3), (2, 4), (2, 5), (3, 3), (3, 4), (3, 5)}"
      ]
     },
     "execution_count": 9,
     "metadata": {},
     "output_type": "execute_result"
    }
   ],
   "source": [
    "{(a_i, b_i) for a_i in a for b_i in b}"
   ]
  },
  {
   "cell_type": "code",
   "execution_count": 10,
   "metadata": {},
   "outputs": [
    {
     "data": {
      "text/plain": [
       "{(1, 5), (1, 6), (1, 7), (2, 5), (2, 6), (2, 7), (3, 5), (3, 6), (3, 7)}"
      ]
     },
     "execution_count": 10,
     "metadata": {},
     "output_type": "execute_result"
    }
   ],
   "source": [
    "{(a_i, c_i) for a_i in a for c_i in c}"
   ]
  },
  {
   "cell_type": "code",
   "execution_count": 11,
   "metadata": {},
   "outputs": [
    {
     "data": {
      "text/plain": [
       "{(3, 5), (3, 6), (3, 7), (4, 5), (4, 6), (4, 7), (5, 5), (5, 6), (5, 7)}"
      ]
     },
     "execution_count": 11,
     "metadata": {},
     "output_type": "execute_result"
    }
   ],
   "source": [
    "{(b_i, c_i) for b_i in b for c_i in c}"
   ]
  },
  {
   "cell_type": "markdown",
   "metadata": {},
   "source": [
    "# 3.3"
   ]
  },
  {
   "cell_type": "code",
   "execution_count": 13,
   "metadata": {},
   "outputs": [],
   "source": [
    "def f(n):\n",
    "    return n / np.power((np.math.factorial(n)),1/n)"
   ]
  },
  {
   "cell_type": "code",
   "execution_count": 26,
   "metadata": {},
   "outputs": [
    {
     "data": {
      "text/plain": [
       "[1.0,\n",
       " 1.414213562373095,\n",
       " 1.6509636244473134,\n",
       " 1.8072040072196898,\n",
       " 1.9192597481868872,\n",
       " 2.0041451295984074,\n",
       " 2.070996628837124,\n",
       " 2.1252005594420327,\n",
       " 2.170156536901524,\n",
       " 2.2081252132060087,\n",
       " 2.2406732477028206,\n",
       " 2.268923390819235,\n",
       " 2.2937029551771286,\n",
       " 2.3156360189017344,\n",
       " 2.335202883868812,\n",
       " 2.352779665665871,\n",
       " 2.368665391348515,\n",
       " 2.3831009973869577,\n",
       " 2.396282932872044,\n",
       " 2.408373083650825,\n",
       " 2.419506134182143,\n",
       " 2.429795111070674,\n",
       " 2.4393356142427107,\n",
       " 2.448209086349558,\n",
       " 2.4564853674650906,\n",
       " 2.46422471189274,\n",
       " 2.471479395415468,\n",
       " 2.478295007345771,\n",
       " 2.484711497582766,\n",
       " 2.4907640314928114,\n",
       " 2.496483692754992,\n",
       " 2.501898064970579,\n",
       " 2.5070317158777042,\n",
       " 2.511906602779828,\n",
       " 2.5165424138253716,\n",
       " 2.5209568567362743,\n",
       " 2.525165904237891,\n",
       " 2.5291840036193896,\n",
       " 2.533024256426202,\n",
       " 2.5366985731609004,\n",
       " 2.5402178069761545,\n",
       " 2.5435918696311526,\n",
       " 2.546829832411064,\n",
       " 2.549940014247768,\n",
       " 2.552930058905755,\n",
       " 2.5558070027920627,\n",
       " 2.5585773346992244,\n",
       " 2.5612470485846335,\n",
       " 2.5638216903199083,\n",
       " 2.5663063992029502,\n",
       " 2.568705944908037,\n",
       " 2.571024760451175,\n",
       " 2.5732669716656855,\n",
       " 2.5754364236136276,\n",
       " 2.57753670430019,\n",
       " 2.579571166008542,\n",
       " 2.5815429445304647,\n",
       " 2.5834549765321584,\n",
       " 2.5853100152638544,\n",
       " 2.5871106447955117,\n",
       " 2.588859292938235,\n",
       " 2.5905582429914977,\n",
       " 2.592209644439393,\n",
       " 2.593815522704537,\n",
       " 2.595377788055523,\n",
       " 2.596898243752819,\n",
       " 2.5983785935083703,\n",
       " 2.599820448325733,\n",
       " 2.6012253327802406,\n",
       " 2.602594690792201,\n",
       " 2.6039298909404622,\n",
       " 2.6052322313586966,\n",
       " 2.6065029442522945,\n",
       " 2.607743200069914,\n",
       " 2.60895411136023,\n",
       " 2.6101367363413814,\n",
       " 2.611292082207907,\n",
       " 2.6124211081975277,\n",
       " 2.6135247284379473,\n",
       " 2.614603814591984,\n",
       " 2.615659198317556,\n",
       " 2.616691673557546,\n",
       " 2.617701998673183,\n",
       " 2.618690898433316,\n",
       " 2.6196590658708807,\n",
       " 2.6206071640168287,\n",
       " 2.6215358275208946,\n",
       " 2.622445664167764,\n",
       " 2.6233372562964754,\n",
       " 2.6242111621302104,\n",
       " 2.6250679170230424,\n",
       " 2.625908034629652,\n",
       " 2.6267320080035232,\n",
       " 2.6275403106287274,\n",
       " 2.628333397389902,\n",
       " 2.6291117054847692,\n",
       " 2.6298756552831164,\n",
       " 2.6306256511358934,\n",
       " 2.631362082137783,\n",
       " 2.6320853228463696,\n",
       " 2.632795733960734,\n",
       " 2.633493662962183,\n",
       " 2.6341794447195244,\n",
       " 2.634853402061185,\n",
       " 2.6355158463162907,\n",
       " 2.636167077826631,\n",
       " 2.6368073864313595,\n",
       " 2.63743705192611,\n",
       " 2.638056344498083,\n",
       " 2.638665525138585,\n",
       " 2.6392648460343446,\n",
       " 2.6398545509389253,\n",
       " 2.640434875525355,\n",
       " 2.641006047721124,\n",
       " 2.6415682880265345,\n",
       " 2.642121809817405,\n",
       " 2.6426668196329803,\n",
       " 2.64320351744993,\n",
       " 2.643732096943174,\n",
       " 2.64425274573431,\n",
       " 2.6447656456283077,\n",
       " 2.64527097283911,\n",
       " 2.6457688982047602,\n",
       " 2.646259587392613,\n",
       " 2.646743201095152,\n",
       " 2.647219895216943,\n",
       " 2.6476898210531465,\n",
       " 2.6481531254600723,\n",
       " 2.648609951018167,\n",
       " 2.649060436187825,\n",
       " 2.6495047154584106,\n",
       " 2.649942919490798,\n",
       " 2.650375175253807,\n",
       " 2.6508016061547823,\n",
       " 2.6512223321646635,\n",
       " 2.651637469937776,\n",
       " 2.6520471329266164,\n",
       " 2.6524514314918823,\n",
       " 2.6528504730079683,\n",
       " 2.653244361964142,\n",
       " 2.653633200061613,\n",
       " 2.654017086306688,\n",
       " 2.654396117100196,\n",
       " 2.6547703863233463,\n",
       " 2.655139985420205,\n",
       " 2.6555050034769296,\n",
       " 2.6558655272979106,\n",
       " 2.656221641478973,\n",
       " 2.656573428477758]"
      ]
     },
     "execution_count": 26,
     "metadata": {},
     "output_type": "execute_result"
    }
   ],
   "source": [
    "res = []\n",
    "for i in range(1,150):\n",
    "    res.append(f(i))\n",
    "res"
   ]
  },
  {
   "cell_type": "code",
   "execution_count": 28,
   "metadata": {},
   "outputs": [
    {
     "data": {
      "text/plain": [
       "[<matplotlib.lines.Line2D at 0x7f06084b7fd0>]"
      ]
     },
     "execution_count": 28,
     "metadata": {},
     "output_type": "execute_result"
    },
    {
     "data": {
      "image/png": "[encoded data removed]",
      "text/plain": [
       "<Figure size 720x360 with 1 Axes>"
      ]
     },
     "metadata": {
      "needs_background": "light"
     },
     "output_type": "display_data"
    }
   ],
   "source": [
    "plt.figure(figsize=(10, 5))\n",
    "\n",
    "ox = range(1,150)\n",
    "oy = res\n",
    "\n",
    "plt.plot(ox, oy)"
   ]
  },
  {
   "cell_type": "code",
   "execution_count": 32,
   "metadata": {},
   "outputs": [
    {
     "data": {
      "text/plain": [
       "2.663087878748024"
      ]
     },
     "execution_count": 32,
     "metadata": {},
     "output_type": "execute_result"
    }
   ],
   "source": [
    "f(170)"
   ]
  },
  {
   "cell_type": "markdown",
   "metadata": {},
   "source": [
    "Питон не может сосчитать данную функцию при х больше 170, а такой точности нам явно не достаточно. и это всё, что я мог сделать=((("
   ]
  },
  {
   "cell_type": "code",
   "execution_count": null,
   "metadata": {},
   "outputs": [],
   "source": []
  }
 ],
 "metadata": {
  "kernelspec": {
   "display_name": "Python 3",
   "language": "python",
   "name": "python3"
  },
  "language_info": {
   "codemirror_mode": {
    "name": "ipython",
    "version": 3
   },
   "file_extension": ".py",
   "mimetype": "text/x-python",
   "name": "python",
   "nbconvert_exporter": "python",
   "pygments_lexer": "ipython3",
   "version": "3.7.3"
  }
 },
 "nbformat": 4,
 "nbformat_minor": 2
}
